{
 "cells": [
  {
   "cell_type": "markdown",
   "metadata": {},
   "source": [
    "Pair Programming"
   ]
  },
  {
   "cell_type": "markdown",
   "metadata": {},
   "source": [
    "Crea un array 1D con 50 valores aleatorio del 10 al 99. Accede a los elementos en las posiciones múltiplos de 5."
   ]
  },
  {
   "cell_type": "code",
   "execution_count": 35,
   "metadata": {},
   "outputs": [],
   "source": [
    "import numpy as np"
   ]
  },
  {
   "cell_type": "code",
   "execution_count": 36,
   "metadata": {},
   "outputs": [
    {
     "data": {
      "text/plain": [
       "array([22, 92, 26, 34, 60, 78, 82, 73, 27, 80, 10, 49, 90, 68, 86, 86, 18,\n",
       "       55, 73, 31, 54, 56, 33, 56, 48, 46, 26, 60, 44, 76, 69, 67, 85, 82,\n",
       "       19, 32, 60, 31, 96, 45, 64, 78, 82, 76, 26, 76, 68, 97, 22, 98])"
      ]
     },
     "execution_count": 36,
     "metadata": {},
     "output_type": "execute_result"
    }
   ],
   "source": [
    "array1= np.random.randint(10,100, (50))\n",
    "array1"
   ]
  },
  {
   "cell_type": "code",
   "execution_count": 37,
   "metadata": {},
   "outputs": [
    {
     "name": "stdout",
     "output_type": "stream",
     "text": [
      "[22 78 10 86 54 46 69 32 64 76]\n"
     ]
    }
   ],
   "source": [
    "print(array1[::5])"
   ]
  },
  {
   "cell_type": "markdown",
   "metadata": {},
   "source": [
    "2. Crea un array 1D con 30 valores del 1 al 20 (ambos incluidos). Utiliza indexación para obtener los elementos en las posiciones impares."
   ]
  },
  {
   "cell_type": "code",
   "execution_count": 38,
   "metadata": {},
   "outputs": [
    {
     "data": {
      "text/plain": [
       "array([ 7, 19, 10, 10,  4, 14,  9, 15, 10,  7, 18, 16, 18,  8,  8, 18, 12,\n",
       "        9, 13,  8, 10,  5,  5, 15, 17,  3,  7, 10, 11,  3])"
      ]
     },
     "execution_count": 38,
     "metadata": {},
     "output_type": "execute_result"
    }
   ],
   "source": [
    "array2 = np.random.randint(1,21, (30))\n",
    "array2"
   ]
  },
  {
   "cell_type": "code",
   "execution_count": 39,
   "metadata": {},
   "outputs": [
    {
     "name": "stdout",
     "output_type": "stream",
     "text": [
      "[19 10 14 15  7 16  8 18  9  8  5 15  3 10  3]\n"
     ]
    }
   ],
   "source": [
    "print(array2[1::2])"
   ]
  },
  {
   "cell_type": "markdown",
   "metadata": {},
   "source": [
    "3. Crea un array 2D de forma (4, 6) con números aleatorios decimales (no deben estar comprendidos solo entre 0 y 1). Accede a la última fila de la matriz. Los decimales deben estar redondeados a 2 decimales."
   ]
  },
  {
   "cell_type": "code",
   "execution_count": 40,
   "metadata": {},
   "outputs": [
    {
     "data": {
      "text/plain": [
       "array([[2.42616059, 9.44560046, 1.72420228, 2.69610085, 6.24727712,\n",
       "        4.77360422],\n",
       "       [9.9724045 , 5.9244266 , 6.10472117, 9.32660926, 3.77148484,\n",
       "        3.99108969],\n",
       "       [7.27571989, 9.24588312, 9.30390501, 1.37435551, 6.70784058,\n",
       "        2.14310714],\n",
       "       [1.63787645, 1.58118686, 8.58425725, 8.33397999, 1.29349584,\n",
       "        9.49714804]])"
      ]
     },
     "execution_count": 40,
     "metadata": {},
     "output_type": "execute_result"
    }
   ],
   "source": [
    "array3= np.random.uniform(1, 10, (4,6))\n",
    "array3"
   ]
  },
  {
   "cell_type": "code",
   "execution_count": 41,
   "metadata": {},
   "outputs": [],
   "source": [
    "array3_=np.round(array3,2)"
   ]
  },
  {
   "cell_type": "code",
   "execution_count": 42,
   "metadata": {},
   "outputs": [
    {
     "name": "stdout",
     "output_type": "stream",
     "text": [
      "[[2.43 9.45 1.72 2.7  6.25 4.77]\n",
      " [9.97 5.92 6.1  9.33 3.77 3.99]\n",
      " [7.28 9.25 9.3  1.37 6.71 2.14]\n",
      " [1.64 1.58 8.58 8.33 1.29 9.5 ]]\n"
     ]
    }
   ],
   "source": [
    "print(array3_)"
   ]
  },
  {
   "cell_type": "code",
   "execution_count": 43,
   "metadata": {},
   "outputs": [
    {
     "name": "stdout",
     "output_type": "stream",
     "text": [
      "[1.64 1.58 8.58 8.33 1.29 9.5 ]\n"
     ]
    }
   ],
   "source": [
    "print(array3_[-1])"
   ]
  },
  {
   "cell_type": "markdown",
   "metadata": {},
   "source": [
    "4. Crea un array NumPy 2D de forma (6, 4) con valores decimales entre 0 y 1. Accede a la segunda columna de la matriz. Los números deben estar redondeados a 2 decimales."
   ]
  },
  {
   "cell_type": "code",
   "execution_count": 44,
   "metadata": {},
   "outputs": [
    {
     "data": {
      "text/plain": [
       "array([[0.90905074, 0.80122155, 0.77372752, 0.34382623],\n",
       "       [0.69405066, 0.00125046, 0.01318129, 0.83607767],\n",
       "       [0.05452131, 0.98457196, 0.20952981, 0.69167427],\n",
       "       [0.85447794, 0.94556775, 0.659746  , 0.27597029],\n",
       "       [0.92537657, 0.45820493, 0.99776237, 0.67804739],\n",
       "       [0.80548478, 0.28897035, 0.96141213, 0.31450649]])"
      ]
     },
     "execution_count": 44,
     "metadata": {},
     "output_type": "execute_result"
    }
   ],
   "source": [
    "array4 = np.random.rand(6,4)\n",
    "array4"
   ]
  },
  {
   "cell_type": "code",
   "execution_count": 45,
   "metadata": {},
   "outputs": [],
   "source": [
    "array4_=np.round(array4,2)"
   ]
  },
  {
   "cell_type": "code",
   "execution_count": 46,
   "metadata": {},
   "outputs": [
    {
     "name": "stdout",
     "output_type": "stream",
     "text": [
      "[[0.91 0.8  0.77 0.34]\n",
      " [0.69 0.   0.01 0.84]\n",
      " [0.05 0.98 0.21 0.69]\n",
      " [0.85 0.95 0.66 0.28]\n",
      " [0.93 0.46 1.   0.68]\n",
      " [0.81 0.29 0.96 0.31]]\n"
     ]
    }
   ],
   "source": [
    "print(array4_)"
   ]
  },
  {
   "cell_type": "code",
   "execution_count": 47,
   "metadata": {},
   "outputs": [
    {
     "name": "stdout",
     "output_type": "stream",
     "text": [
      "[0.8  0.   0.98 0.95 0.46 0.29]\n"
     ]
    }
   ],
   "source": [
    "print(array4_[:,1])"
   ]
  },
  {
   "cell_type": "markdown",
   "metadata": {},
   "source": [
    "5. Crea un array 1D con 30 valores enteros aleatorios entre -50 y 50. Extrae los valores negativos."
   ]
  },
  {
   "cell_type": "code",
   "execution_count": 48,
   "metadata": {},
   "outputs": [
    {
     "name": "stdout",
     "output_type": "stream",
     "text": [
      "[-44   5  -8 -23 -10  10 -24 -28  12  36 -49 -29 -14  48  27  45 -11 -37\n",
      "  35  40 -50  44  20 -22   1 -33 -23 -22  32  31]\n"
     ]
    }
   ],
   "source": [
    "array5= np.random.randint(-50, 50, (30))\n",
    "print(array5)"
   ]
  },
  {
   "cell_type": "code",
   "execution_count": 49,
   "metadata": {},
   "outputs": [],
   "source": [
    "n_nega= array5[array5 <0]"
   ]
  },
  {
   "cell_type": "code",
   "execution_count": 50,
   "metadata": {},
   "outputs": [
    {
     "name": "stdout",
     "output_type": "stream",
     "text": [
      "[-44  -8 -23 -10 -24 -28 -49 -29 -14 -11 -37 -50 -22 -33 -23 -22]\n"
     ]
    }
   ],
   "source": [
    "print(n_nega)"
   ]
  },
  {
   "cell_type": "markdown",
   "metadata": {},
   "source": [
    "6. Crea un array 1D con 10 valores entre 0 y 1. Redondea los decimales a 2. Obtén los elementos cuyo valor es mayor que 0.5. ¿En que posición/es están esos elementos?"
   ]
  },
  {
   "cell_type": "code",
   "execution_count": 51,
   "metadata": {},
   "outputs": [
    {
     "data": {
      "text/plain": [
       "array([0.06340485, 0.68371356, 0.01775237, 0.66106103, 0.72047196,\n",
       "       0.82818719, 0.33808984, 0.49620345, 0.5170526 , 0.65153652])"
      ]
     },
     "execution_count": 51,
     "metadata": {},
     "output_type": "execute_result"
    }
   ],
   "source": [
    "array6 = np.random.rand(10)\n",
    "array6"
   ]
  },
  {
   "cell_type": "code",
   "execution_count": 52,
   "metadata": {},
   "outputs": [
    {
     "data": {
      "text/plain": [
       "array([0.06, 0.68, 0.02, 0.66, 0.72, 0.83, 0.34, 0.5 , 0.52, 0.65])"
      ]
     },
     "execution_count": 52,
     "metadata": {},
     "output_type": "execute_result"
    }
   ],
   "source": [
    "array6=np.round(array6,2)\n",
    "array6"
   ]
  },
  {
   "cell_type": "code",
   "execution_count": 53,
   "metadata": {},
   "outputs": [
    {
     "data": {
      "text/plain": [
       "array([0.68, 0.66, 0.72, 0.83, 0.52, 0.65])"
      ]
     },
     "execution_count": 53,
     "metadata": {},
     "output_type": "execute_result"
    }
   ],
   "source": [
    "elemento= array6[array6 > 0.5]\n",
    "elemento"
   ]
  },
  {
   "cell_type": "code",
   "execution_count": 54,
   "metadata": {},
   "outputs": [
    {
     "data": {
      "text/plain": [
       "(array([1, 3, 4, 5, 8, 9]),)"
      ]
     },
     "execution_count": 54,
     "metadata": {},
     "output_type": "execute_result"
    }
   ],
   "source": [
    "posiciones= np.where(array6 > 0.5)\n",
    "posiciones"
   ]
  },
  {
   "cell_type": "markdown",
   "metadata": {},
   "source": [
    "Reshape y Transpose:"
   ]
  },
  {
   "cell_type": "markdown",
   "metadata": {},
   "source": [
    "Ejercicios con reshape:\n",
    "Crea un array 3D de forma (2, 3, 4) con valores aleatorios entre 1 y 100 (ambos inclusive). Utiliza reshape para convertirlo en un array 2D. Deberás pensar en la forma que es correcta para hacer este cambio."
   ]
  },
  {
   "cell_type": "code",
   "execution_count": 55,
   "metadata": {},
   "outputs": [
    {
     "data": {
      "text/plain": [
       "array([[[85, 78, 73, 85],\n",
       "        [19, 10, 84, 96],\n",
       "        [22, 66, 66, 14]],\n",
       "\n",
       "       [[98, 45,  9, 86],\n",
       "        [26, 65, 90, 44],\n",
       "        [63, 64, 53, 53]]])"
      ]
     },
     "execution_count": 55,
     "metadata": {},
     "output_type": "execute_result"
    }
   ],
   "source": [
    "array7= np.random.randint(1, 101, (2,3,4))\n",
    "array7"
   ]
  },
  {
   "cell_type": "code",
   "execution_count": 56,
   "metadata": {},
   "outputs": [
    {
     "data": {
      "text/plain": [
       "array([[85, 78, 73, 85, 19, 10],\n",
       "       [84, 96, 22, 66, 66, 14],\n",
       "       [98, 45,  9, 86, 26, 65],\n",
       "       [90, 44, 63, 64, 53, 53]])"
      ]
     },
     "execution_count": 56,
     "metadata": {},
     "output_type": "execute_result"
    }
   ],
   "source": [
    "array7_bis= array7.reshape(4,6)\n",
    "array7_bis"
   ]
  },
  {
   "cell_type": "markdown",
   "metadata": {},
   "source": [
    "2. Crea un array 3D de forma (3, 4, 5) con valores enteros del 1 al 60 (sin incluir). Utiliza reshape para convertirlo en un array 2D."
   ]
  },
  {
   "cell_type": "code",
   "execution_count": 57,
   "metadata": {},
   "outputs": [
    {
     "data": {
      "text/plain": [
       "array([[[48,  8, 18, 50, 41],\n",
       "        [37, 36, 29, 29,  7],\n",
       "        [42, 11, 13, 15, 51],\n",
       "        [16, 53, 38, 28, 53]],\n",
       "\n",
       "       [[53, 13, 51, 52, 38],\n",
       "        [38, 47,  7, 25,  9],\n",
       "        [20, 36, 14, 50,  4],\n",
       "        [26, 29,  6, 23, 44]],\n",
       "\n",
       "       [[25, 43, 44, 16, 10],\n",
       "        [53, 55, 48,  5,  8],\n",
       "        [33, 59,  8, 42, 58],\n",
       "        [31, 43, 44, 55, 30]]])"
      ]
     },
     "execution_count": 57,
     "metadata": {},
     "output_type": "execute_result"
    }
   ],
   "source": [
    "array8= np.random.randint(1,60, (3,4,5))\n",
    "array8"
   ]
  },
  {
   "cell_type": "code",
   "execution_count": 58,
   "metadata": {},
   "outputs": [
    {
     "data": {
      "text/plain": [
       "array([[48,  8, 18, 50, 41, 37, 36, 29, 29,  7],\n",
       "       [42, 11, 13, 15, 51, 16, 53, 38, 28, 53],\n",
       "       [53, 13, 51, 52, 38, 38, 47,  7, 25,  9],\n",
       "       [20, 36, 14, 50,  4, 26, 29,  6, 23, 44],\n",
       "       [25, 43, 44, 16, 10, 53, 55, 48,  5,  8],\n",
       "       [33, 59,  8, 42, 58, 31, 43, 44, 55, 30]])"
      ]
     },
     "execution_count": 58,
     "metadata": {},
     "output_type": "execute_result"
    }
   ],
   "source": [
    "array8_bis= np.reshape(array8, (6,10))\n",
    "array8_bis"
   ]
  },
  {
   "cell_type": "markdown",
   "metadata": {},
   "source": [
    "3. Crea un array 3D de forma (4, 3, 2) con valores aleatorios entre 0 y 1. Utiliza reshape para convertirlo en un array 2D."
   ]
  },
  {
   "cell_type": "code",
   "execution_count": 59,
   "metadata": {},
   "outputs": [
    {
     "data": {
      "text/plain": [
       "array([[[0.62479515, 0.4099799 ],\n",
       "        [0.13463254, 0.84245336],\n",
       "        [0.70523332, 0.08089042]],\n",
       "\n",
       "       [[0.2867233 , 0.72060405],\n",
       "        [0.91525392, 0.99286805],\n",
       "        [0.5429547 , 0.81612067]],\n",
       "\n",
       "       [[0.98776584, 0.10175106],\n",
       "        [0.20885285, 0.15187563],\n",
       "        [0.47740777, 0.65402993]],\n",
       "\n",
       "       [[0.18831034, 0.77316339],\n",
       "        [0.3976648 , 0.60061987],\n",
       "        [0.70620306, 0.54184518]]])"
      ]
     },
     "execution_count": 59,
     "metadata": {},
     "output_type": "execute_result"
    }
   ],
   "source": [
    "array9= np.random.rand(4,3,2)\n",
    "array9"
   ]
  },
  {
   "cell_type": "code",
   "execution_count": 60,
   "metadata": {},
   "outputs": [
    {
     "data": {
      "text/plain": [
       "array([[0.62479515, 0.4099799 , 0.13463254, 0.84245336],\n",
       "       [0.70523332, 0.08089042, 0.2867233 , 0.72060405],\n",
       "       [0.91525392, 0.99286805, 0.5429547 , 0.81612067],\n",
       "       [0.98776584, 0.10175106, 0.20885285, 0.15187563],\n",
       "       [0.47740777, 0.65402993, 0.18831034, 0.77316339],\n",
       "       [0.3976648 , 0.60061987, 0.70620306, 0.54184518]])"
      ]
     },
     "execution_count": 60,
     "metadata": {},
     "output_type": "execute_result"
    }
   ],
   "source": [
    "array9_bis= array9.reshape(6,4)\n",
    "array9_bis"
   ]
  },
  {
   "cell_type": "markdown",
   "metadata": {},
   "source": [
    "Ejercicios con transpose:\n",
    "4. Utiliza el array 3D del ejercicio 2 de reshape. Utiliza transpose para permutar los ejes y obtener un nuevo array con forma (5, 4, 3)."
   ]
  },
  {
   "cell_type": "code",
   "execution_count": 61,
   "metadata": {},
   "outputs": [
    {
     "data": {
      "text/plain": [
       "array([[[48,  8, 18, 50, 41],\n",
       "        [37, 36, 29, 29,  7],\n",
       "        [42, 11, 13, 15, 51],\n",
       "        [16, 53, 38, 28, 53]],\n",
       "\n",
       "       [[53, 13, 51, 52, 38],\n",
       "        [38, 47,  7, 25,  9],\n",
       "        [20, 36, 14, 50,  4],\n",
       "        [26, 29,  6, 23, 44]],\n",
       "\n",
       "       [[25, 43, 44, 16, 10],\n",
       "        [53, 55, 48,  5,  8],\n",
       "        [33, 59,  8, 42, 58],\n",
       "        [31, 43, 44, 55, 30]]])"
      ]
     },
     "execution_count": 61,
     "metadata": {},
     "output_type": "execute_result"
    }
   ],
   "source": [
    "array8"
   ]
  },
  {
   "cell_type": "code",
   "execution_count": 62,
   "metadata": {},
   "outputs": [
    {
     "data": {
      "text/plain": [
       "array([[[48, 53, 25],\n",
       "        [37, 38, 53],\n",
       "        [42, 20, 33],\n",
       "        [16, 26, 31]],\n",
       "\n",
       "       [[ 8, 13, 43],\n",
       "        [36, 47, 55],\n",
       "        [11, 36, 59],\n",
       "        [53, 29, 43]],\n",
       "\n",
       "       [[18, 51, 44],\n",
       "        [29,  7, 48],\n",
       "        [13, 14,  8],\n",
       "        [38,  6, 44]],\n",
       "\n",
       "       [[50, 52, 16],\n",
       "        [29, 25,  5],\n",
       "        [15, 50, 42],\n",
       "        [28, 23, 55]],\n",
       "\n",
       "       [[41, 38, 10],\n",
       "        [ 7,  9,  8],\n",
       "        [51,  4, 58],\n",
       "        [53, 44, 30]]])"
      ]
     },
     "execution_count": 62,
     "metadata": {},
     "output_type": "execute_result"
    }
   ],
   "source": [
    "array8_nuevo= np.transpose(array8)\n",
    "array8_nuevo"
   ]
  },
  {
   "cell_type": "markdown",
   "metadata": {},
   "source": [
    "5. Utiliza el array 3D del ejercicio 3 de reshape. Utiliza transpose para cambiar el orden de los ejes y obtener un nuevo array con forma (3, 2, 4)."
   ]
  },
  {
   "cell_type": "code",
   "execution_count": 63,
   "metadata": {},
   "outputs": [
    {
     "data": {
      "text/plain": [
       "array([[[0.62479515, 0.2867233 , 0.98776584, 0.18831034],\n",
       "        [0.4099799 , 0.72060405, 0.10175106, 0.77316339]],\n",
       "\n",
       "       [[0.13463254, 0.91525392, 0.20885285, 0.3976648 ],\n",
       "        [0.84245336, 0.99286805, 0.15187563, 0.60061987]],\n",
       "\n",
       "       [[0.70523332, 0.5429547 , 0.47740777, 0.70620306],\n",
       "        [0.08089042, 0.81612067, 0.65402993, 0.54184518]]])"
      ]
     },
     "execution_count": 63,
     "metadata": {},
     "output_type": "execute_result"
    }
   ],
   "source": [
    "array9_transpose= np.transpose(array9, (1,2,0))\n",
    "array9_transpose"
   ]
  },
  {
   "cell_type": "markdown",
   "metadata": {},
   "source": [
    "Funciones Aritméticas y Estadísticas:\n",
    "\n",
    "1. Crea un array de tres 3D con elementos entre el 0 y 1 de forma (2, 3, 5) cuyos valores solo tengan 1 decimal."
   ]
  },
  {
   "cell_type": "code",
   "execution_count": 64,
   "metadata": {},
   "outputs": [
    {
     "data": {
      "text/plain": [
       "array([[[0.4, 0.2, 0.9, 0.9, 0.6],\n",
       "        [0.4, 0.7, 0.2, 0.2, 0.9],\n",
       "        [0.3, 0.7, 0.6, 0.5, 0.9]],\n",
       "\n",
       "       [[0.9, 0.6, 1. , 0.3, 1. ],\n",
       "        [0.8, 0. , 0.8, 0.9, 0.2],\n",
       "        [0.6, 0.1, 0. , 0.3, 0.3]]])"
      ]
     },
     "execution_count": 64,
     "metadata": {},
     "output_type": "execute_result"
    }
   ],
   "source": [
    "array10= np.random.rand(2,3,5).round(1)\n",
    "array10"
   ]
  },
  {
   "cell_type": "markdown",
   "metadata": {},
   "source": [
    "\n",
    "Crea un array vacío con la misma forma y dimensiones que el array creado anteriormente. Vamos a reemplazar los valores de la matriz vacía que nos acabamos de crear pero basándonos en los valores del primer array bajo las siguientes condiciones:\n",
    "\n",
    "Si el valor del array es igual que la media, se reemplaza por \"A\".\n",
    "\n",
    "Si el valor del array es mayor que la media, se reemplaza por \"B\".\n",
    "\n",
    "Si el valor del array es menor que la media, se reemplaza por \"C\".\n",
    "\n",
    "Si el valor es igual que el máximo, se reemplaza por \"D\".\n",
    "\n",
    "Si el valor es igual que el mínimo, se reemplaza por \"E\"."
   ]
  },
  {
   "cell_type": "code",
   "execution_count": 65,
   "metadata": {},
   "outputs": [],
   "source": [
    "#calculos \n",
    "media = np.mean(array10)\n",
    "max = np.max(array10)\n",
    "min = np.min(array10)"
   ]
  },
  {
   "cell_type": "code",
   "execution_count": 66,
   "metadata": {},
   "outputs": [
    {
     "data": {
      "text/plain": [
       "array([[['', '', '', '', ''],\n",
       "        ['', '', '', '', ''],\n",
       "        ['', '', '', '', '']],\n",
       "\n",
       "       [['', '', '', '', ''],\n",
       "        ['', '', '', '', ''],\n",
       "        ['', '', '', '', '']]], dtype='<U1')"
      ]
     },
     "execution_count": 66,
     "metadata": {},
     "output_type": "execute_result"
    }
   ],
   "source": [
    "# Crea un nuevo array vacío con la misma forma y tipo que el array \"arr\"\n",
    "# pero con el tipo de dato \"str\" para cada elemento.\n",
    "vacio = np.empty_like(array10, dtype=str) \n",
    "vacio"
   ]
  },
  {
   "cell_type": "code",
   "execution_count": 67,
   "metadata": {},
   "outputs": [],
   "source": [
    "for matriz in range(array10.shape[0]): # Recorre cada fila del array \"arr\"\n",
    "    for fila in range(array10.shape[1]): # Recorre cada columna del array \"arr\"\n",
    "        for col in range(array10.shape[2]): # Recorre cada capa del array \"arr\"\n",
    "            # Si el valor actual es igual a la media, se asigna \"A\" al array vacío\n",
    "            if array10[matriz][fila][col] == media:\n",
    "                vacio[matriz][fila][col] = \"A\"\n",
    "\n",
    "            # Si el valor actual es igual al máximo, se asigna \"D\" al array vacío\n",
    "            elif array10[matriz][fila][col] == max:\n",
    "                vacio[matriz][fila][col] = \"D\"\n",
    "\n",
    "            # Si el valor actual es igual al mínimo, se asigna \"E\" al array vacío\n",
    "            elif array10[matriz][fila][col] == min:\n",
    "                vacio[matriz][fila][col] = \"E\"\n",
    "\n",
    "            # Si el valor actual es mayor que la media, se asigna \"B\" al array vacío\n",
    "            elif array10[matriz][fila][col] > media:\n",
    "                vacio[matriz][fila][col] = \"B\"\n",
    "\n",
    "            # Si el valor actual es menor que la media, se asigna \"C\" al array vacío\n",
    "            elif array10[matriz][fila][col] < media:\n",
    "                vacio[matriz][fila][col] = \"C\""
   ]
  },
  {
   "cell_type": "code",
   "execution_count": 68,
   "metadata": {},
   "outputs": [
    {
     "data": {
      "text/plain": [
       "array([[['C', 'C', 'B', 'B', 'B'],\n",
       "        ['C', 'B', 'C', 'C', 'B'],\n",
       "        ['C', 'B', 'B', 'C', 'B']],\n",
       "\n",
       "       [['B', 'B', 'D', 'C', 'D'],\n",
       "        ['B', 'E', 'B', 'B', 'C'],\n",
       "        ['B', 'C', 'E', 'C', 'C']]], dtype='<U1')"
      ]
     },
     "execution_count": 68,
     "metadata": {},
     "output_type": "execute_result"
    }
   ],
   "source": [
    "vacio"
   ]
  }
 ],
 "metadata": {
  "kernelspec": {
   "display_name": "base",
   "language": "python",
   "name": "python3"
  },
  "language_info": {
   "codemirror_mode": {
    "name": "ipython",
    "version": 3
   },
   "file_extension": ".py",
   "mimetype": "text/x-python",
   "name": "python",
   "nbconvert_exporter": "python",
   "pygments_lexer": "ipython3",
   "version": "3.9.7"
  }
 },
 "nbformat": 4,
 "nbformat_minor": 2
}
