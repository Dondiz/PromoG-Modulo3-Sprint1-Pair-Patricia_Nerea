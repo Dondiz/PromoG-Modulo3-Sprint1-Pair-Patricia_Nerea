{
 "cells": [
  {
   "cell_type": "markdown",
   "metadata": {},
   "source": [
    "Pair Programming"
   ]
  },
  {
   "cell_type": "markdown",
   "metadata": {},
   "source": [
    "Crea un array 1D con 50 valores aleatorio del 10 al 99. Accede a los elementos en las posiciones múltiplos de 5."
   ]
  },
  {
   "cell_type": "code",
   "execution_count": 2,
   "metadata": {},
   "outputs": [],
   "source": [
    "import numpy as np"
   ]
  },
  {
   "cell_type": "code",
   "execution_count": 3,
   "metadata": {},
   "outputs": [
    {
     "data": {
      "text/plain": [
       "array([58, 42, 13, 95, 55, 33, 44, 23, 81, 76, 58, 68, 50, 52, 15, 15, 30,\n",
       "       15, 18, 32, 39, 55, 27, 38, 49, 14, 40, 24, 64, 21, 73, 87, 63, 87,\n",
       "       92, 55, 96, 74, 69, 22, 76, 85, 55, 63, 83, 86, 39, 52, 21, 33])"
      ]
     },
     "execution_count": 3,
     "metadata": {},
     "output_type": "execute_result"
    }
   ],
   "source": [
    "array1= np.random.randint(10,100, (50))\n",
    "array1"
   ]
  },
  {
   "cell_type": "code",
   "execution_count": 4,
   "metadata": {},
   "outputs": [
    {
     "name": "stdout",
     "output_type": "stream",
     "text": [
      "[58 33 58 15 39 14 73 55 76 86]\n"
     ]
    }
   ],
   "source": [
    "print(array1[::5])"
   ]
  },
  {
   "cell_type": "markdown",
   "metadata": {},
   "source": [
    "2. Crea un array 1D con 30 valores del 1 al 20 (ambos incluidos). Utiliza indexación para obtener los elementos en las posiciones impares."
   ]
  },
  {
   "cell_type": "code",
   "execution_count": 6,
   "metadata": {},
   "outputs": [
    {
     "data": {
      "text/plain": [
       "array([14, 11, 12, 10,  8, 11,  9, 14,  5,  8,  5,  3,  9, 12,  7, 19, 10,\n",
       "       20, 17, 11,  5,  1, 18, 20, 13, 14, 11, 17, 11,  1])"
      ]
     },
     "execution_count": 6,
     "metadata": {},
     "output_type": "execute_result"
    }
   ],
   "source": [
    "array2 = np.random.randint(1,21, (30))\n",
    "array2"
   ]
  },
  {
   "cell_type": "code",
   "execution_count": 7,
   "metadata": {},
   "outputs": [
    {
     "name": "stdout",
     "output_type": "stream",
     "text": [
      "[11 10 11 14  8  3 12 19 20 11  1 20 14 17  1]\n"
     ]
    }
   ],
   "source": [
    "print(array2[1::2])"
   ]
  },
  {
   "cell_type": "markdown",
   "metadata": {},
   "source": [
    "3. Crea un array 2D de forma (4, 6) con números aleatorios decimales (no deben estar comprendidos solo entre 0 y 1). Accede a la última fila de la matriz. Los decimales deben estar redondeados a 2 decimales."
   ]
  },
  {
   "cell_type": "code",
   "execution_count": 8,
   "metadata": {},
   "outputs": [
    {
     "data": {
      "text/plain": [
       "array([[4.06854312, 4.98450963, 5.96250405, 8.22045274, 4.03591321,\n",
       "        5.61649052],\n",
       "       [9.06945642, 1.13230097, 6.43779509, 1.78360343, 8.37894128,\n",
       "        1.47353113],\n",
       "       [4.02533356, 6.88568476, 7.49751168, 8.6075854 , 1.56930894,\n",
       "        9.18974197],\n",
       "       [6.46276773, 7.03295845, 9.03930238, 8.59111294, 9.65329238,\n",
       "        9.42861357]])"
      ]
     },
     "execution_count": 8,
     "metadata": {},
     "output_type": "execute_result"
    }
   ],
   "source": [
    "array3= np.random.uniform(1, 10, (4,6))\n",
    "array3"
   ]
  },
  {
   "cell_type": "code",
   "execution_count": 13,
   "metadata": {},
   "outputs": [],
   "source": [
    "array3_=np.round(array3,2)"
   ]
  },
  {
   "cell_type": "code",
   "execution_count": 14,
   "metadata": {},
   "outputs": [
    {
     "name": "stdout",
     "output_type": "stream",
     "text": [
      "[[4.07 4.98 5.96 8.22 4.04 5.62]\n",
      " [9.07 1.13 6.44 1.78 8.38 1.47]\n",
      " [4.03 6.89 7.5  8.61 1.57 9.19]\n",
      " [6.46 7.03 9.04 8.59 9.65 9.43]]\n"
     ]
    }
   ],
   "source": [
    "print(array3_)"
   ]
  },
  {
   "cell_type": "code",
   "execution_count": 15,
   "metadata": {},
   "outputs": [
    {
     "name": "stdout",
     "output_type": "stream",
     "text": [
      "[6.46 7.03 9.04 8.59 9.65 9.43]\n"
     ]
    }
   ],
   "source": [
    "print(array3_[-1])"
   ]
  },
  {
   "cell_type": "markdown",
   "metadata": {},
   "source": [
    "4. Crea un array NumPy 2D de forma (6, 4) con valores decimales entre 0 y 1. Accede a la segunda columna de la matriz. Los números deben estar redondeados a 2 decimales."
   ]
  },
  {
   "cell_type": "code",
   "execution_count": 16,
   "metadata": {},
   "outputs": [
    {
     "data": {
      "text/plain": [
       "array([[0.06422455, 0.40627862, 0.83360346, 0.04589213],\n",
       "       [0.89495967, 0.88260461, 0.25361269, 0.61298731],\n",
       "       [0.72200055, 0.15259508, 0.11284015, 0.84406462],\n",
       "       [0.92926915, 0.33967836, 0.93132952, 0.22585805],\n",
       "       [0.27908675, 0.47841388, 0.05284117, 0.36424732],\n",
       "       [0.18626695, 0.84035137, 0.95084549, 0.26918356]])"
      ]
     },
     "execution_count": 16,
     "metadata": {},
     "output_type": "execute_result"
    }
   ],
   "source": [
    "array4 = np.random.rand(6,4)\n",
    "array4"
   ]
  },
  {
   "cell_type": "code",
   "execution_count": 17,
   "metadata": {},
   "outputs": [],
   "source": [
    "array4_=np.round(array4,2)"
   ]
  },
  {
   "cell_type": "code",
   "execution_count": 18,
   "metadata": {},
   "outputs": [
    {
     "name": "stdout",
     "output_type": "stream",
     "text": [
      "[[0.06 0.41 0.83 0.05]\n",
      " [0.89 0.88 0.25 0.61]\n",
      " [0.72 0.15 0.11 0.84]\n",
      " [0.93 0.34 0.93 0.23]\n",
      " [0.28 0.48 0.05 0.36]\n",
      " [0.19 0.84 0.95 0.27]]\n"
     ]
    }
   ],
   "source": [
    "print(array4_)"
   ]
  },
  {
   "cell_type": "code",
   "execution_count": 20,
   "metadata": {},
   "outputs": [
    {
     "name": "stdout",
     "output_type": "stream",
     "text": [
      "[0.41 0.88 0.15 0.34 0.48 0.84]\n"
     ]
    }
   ],
   "source": [
    "print(array4_[:,1])"
   ]
  },
  {
   "cell_type": "markdown",
   "metadata": {},
   "source": [
    "5. Crea un array 1D con 30 valores enteros aleatorios entre -50 y 50. Extrae los valores negativos."
   ]
  },
  {
   "cell_type": "code",
   "execution_count": 22,
   "metadata": {},
   "outputs": [
    {
     "name": "stdout",
     "output_type": "stream",
     "text": [
      "[ 21  31 -48 -32  35  28  33  12   0  28 -17 -23 -10  28   4  36 -15   6\n",
      " -39 -21   8  48 -23   1  13 -32  -4  11 -28  14]\n"
     ]
    }
   ],
   "source": [
    "array5= np.random.randint(-50, 50, (30))\n",
    "print(array5)"
   ]
  },
  {
   "cell_type": "code",
   "execution_count": 24,
   "metadata": {},
   "outputs": [],
   "source": [
    "n_nega= array5[array5 <0]"
   ]
  },
  {
   "cell_type": "code",
   "execution_count": 25,
   "metadata": {},
   "outputs": [
    {
     "name": "stdout",
     "output_type": "stream",
     "text": [
      "[-48 -32 -17 -23 -10 -15 -39 -21 -23 -32  -4 -28]\n"
     ]
    }
   ],
   "source": [
    "print(n_nega)"
   ]
  },
  {
   "cell_type": "markdown",
   "metadata": {},
   "source": [
    "6. Crea un array 1D con 10 valores entre 0 y 1. Redondea los decimales a 2. Obtén los elementos cuyo valor es mayor que 0.5. ¿En que posición/es están esos elementos?"
   ]
  },
  {
   "cell_type": "code",
   "execution_count": 26,
   "metadata": {},
   "outputs": [
    {
     "data": {
      "text/plain": [
       "array([0.21772798, 0.24408227, 0.62568698, 0.62694143, 0.69113736,\n",
       "       0.03275488, 0.4059397 , 0.11891737, 0.40826076, 0.93893535])"
      ]
     },
     "execution_count": 26,
     "metadata": {},
     "output_type": "execute_result"
    }
   ],
   "source": [
    "array6 = np.random.rand(10)\n",
    "array6"
   ]
  },
  {
   "cell_type": "code",
   "execution_count": 29,
   "metadata": {},
   "outputs": [
    {
     "data": {
      "text/plain": [
       "array([0.22, 0.24, 0.63, 0.63, 0.69, 0.03, 0.41, 0.12, 0.41, 0.94])"
      ]
     },
     "execution_count": 29,
     "metadata": {},
     "output_type": "execute_result"
    }
   ],
   "source": [
    "array6=np.round(array6,2)\n",
    "array6"
   ]
  },
  {
   "cell_type": "code",
   "execution_count": 30,
   "metadata": {},
   "outputs": [
    {
     "data": {
      "text/plain": [
       "array([0.63, 0.63, 0.69, 0.94])"
      ]
     },
     "execution_count": 30,
     "metadata": {},
     "output_type": "execute_result"
    }
   ],
   "source": [
    "elemento= array6[array6 > 0.5]\n",
    "elemento"
   ]
  },
  {
   "cell_type": "code",
   "execution_count": 31,
   "metadata": {},
   "outputs": [
    {
     "data": {
      "text/plain": [
       "(array([2, 3, 4, 9]),)"
      ]
     },
     "execution_count": 31,
     "metadata": {},
     "output_type": "execute_result"
    }
   ],
   "source": [
    "posiciones= np.where(array6 > 0.5)\n",
    "posiciones"
   ]
  },
  {
   "cell_type": "markdown",
   "metadata": {},
   "source": [
    "Reshape y Transpose:"
   ]
  },
  {
   "cell_type": "markdown",
   "metadata": {},
   "source": [
    "Ejercicios con reshape:\n",
    "Crea un array 3D de forma (2, 3, 4) con valores aleatorios entre 1 y 100 (ambos inclusive). Utiliza reshape para convertirlo en un array 2D. Deberás pensar en la forma que es correcta para hacer este cambio."
   ]
  },
  {
   "cell_type": "code",
   "execution_count": 32,
   "metadata": {},
   "outputs": [
    {
     "data": {
      "text/plain": [
       "array([[[ 88,  13,  81,  75],\n",
       "        [  9,  90,  19,  37],\n",
       "        [ 10,  19,   3,  91]],\n",
       "\n",
       "       [[ 78, 100,   3,  26],\n",
       "        [ 78,  65,  82,  90],\n",
       "        [ 28,  50,  37,   7]]])"
      ]
     },
     "execution_count": 32,
     "metadata": {},
     "output_type": "execute_result"
    }
   ],
   "source": [
    "array7= np.random.randint(1, 101, (2,3,4))\n",
    "array7"
   ]
  },
  {
   "cell_type": "code",
   "execution_count": 33,
   "metadata": {},
   "outputs": [
    {
     "data": {
      "text/plain": [
       "array([[ 88,  13,  81,  75,   9,  90],\n",
       "       [ 19,  37,  10,  19,   3,  91],\n",
       "       [ 78, 100,   3,  26,  78,  65],\n",
       "       [ 82,  90,  28,  50,  37,   7]])"
      ]
     },
     "execution_count": 33,
     "metadata": {},
     "output_type": "execute_result"
    }
   ],
   "source": [
    "array7_bis= array7.reshape(4,6)\n",
    "array7_bis"
   ]
  },
  {
   "cell_type": "markdown",
   "metadata": {},
   "source": [
    "2. Crea un array 3D de forma (3, 4, 5) con valores enteros del 1 al 60 (sin incluir). Utiliza reshape para convertirlo en un array 2D."
   ]
  },
  {
   "cell_type": "code",
   "execution_count": 35,
   "metadata": {},
   "outputs": [
    {
     "data": {
      "text/plain": [
       "array([[[ 4,  7, 47,  9, 27],\n",
       "        [34, 46, 52, 48, 52],\n",
       "        [43, 22, 36, 30, 43],\n",
       "        [22, 24, 49, 51, 48]],\n",
       "\n",
       "       [[36, 45, 45, 23, 56],\n",
       "        [ 6, 17, 12, 32, 38],\n",
       "        [ 6, 53, 52, 49, 33],\n",
       "        [32, 37,  2, 23,  4]],\n",
       "\n",
       "       [[29, 26, 27, 19, 57],\n",
       "        [ 8, 50, 44, 16, 36],\n",
       "        [46, 27, 11, 38, 37],\n",
       "        [51, 55, 31, 40, 26]]])"
      ]
     },
     "execution_count": 35,
     "metadata": {},
     "output_type": "execute_result"
    }
   ],
   "source": [
    "array8= np.random.randint(1,60, (3,4,5))\n",
    "array8"
   ]
  },
  {
   "cell_type": "code",
   "execution_count": 37,
   "metadata": {},
   "outputs": [
    {
     "data": {
      "text/plain": [
       "array([[ 4,  7, 47,  9, 27, 34, 46, 52, 48, 52],\n",
       "       [43, 22, 36, 30, 43, 22, 24, 49, 51, 48],\n",
       "       [36, 45, 45, 23, 56,  6, 17, 12, 32, 38],\n",
       "       [ 6, 53, 52, 49, 33, 32, 37,  2, 23,  4],\n",
       "       [29, 26, 27, 19, 57,  8, 50, 44, 16, 36],\n",
       "       [46, 27, 11, 38, 37, 51, 55, 31, 40, 26]])"
      ]
     },
     "execution_count": 37,
     "metadata": {},
     "output_type": "execute_result"
    }
   ],
   "source": [
    "array8_bis= np.reshape(array8, (6,10))\n",
    "array8_bis"
   ]
  },
  {
   "cell_type": "markdown",
   "metadata": {},
   "source": [
    "3. Crea un array 3D de forma (4, 3, 2) con valores aleatorios entre 0 y 1. Utiliza reshape para convertirlo en un array 2D."
   ]
  },
  {
   "cell_type": "code",
   "execution_count": 38,
   "metadata": {},
   "outputs": [
    {
     "data": {
      "text/plain": [
       "array([[[0.4172722 , 0.03951582],\n",
       "        [0.15623245, 0.1638901 ],\n",
       "        [0.94939288, 0.47203401]],\n",
       "\n",
       "       [[0.52410796, 0.63104471],\n",
       "        [0.73445472, 0.30362681],\n",
       "        [0.29584608, 0.22406058]],\n",
       "\n",
       "       [[0.74275629, 0.5913752 ],\n",
       "        [0.12893475, 0.76602946],\n",
       "        [0.65437785, 0.79421562]],\n",
       "\n",
       "       [[0.30547426, 0.4935739 ],\n",
       "        [0.45826277, 0.62501702],\n",
       "        [0.53550188, 0.49859871]]])"
      ]
     },
     "execution_count": 38,
     "metadata": {},
     "output_type": "execute_result"
    }
   ],
   "source": [
    "array9= np.random.rand(4,3,2)\n",
    "array9"
   ]
  },
  {
   "cell_type": "code",
   "execution_count": 39,
   "metadata": {},
   "outputs": [
    {
     "data": {
      "text/plain": [
       "array([[0.4172722 , 0.03951582, 0.15623245, 0.1638901 ],\n",
       "       [0.94939288, 0.47203401, 0.52410796, 0.63104471],\n",
       "       [0.73445472, 0.30362681, 0.29584608, 0.22406058],\n",
       "       [0.74275629, 0.5913752 , 0.12893475, 0.76602946],\n",
       "       [0.65437785, 0.79421562, 0.30547426, 0.4935739 ],\n",
       "       [0.45826277, 0.62501702, 0.53550188, 0.49859871]])"
      ]
     },
     "execution_count": 39,
     "metadata": {},
     "output_type": "execute_result"
    }
   ],
   "source": [
    "array9_bis= array9.reshape(6,4)\n",
    "array9_bis"
   ]
  },
  {
   "cell_type": "markdown",
   "metadata": {},
   "source": [
    "Ejercicios con transpose:\n",
    "4. Utiliza el array 3D del ejercicio 2 de reshape. Utiliza transpose para permutar los ejes y obtener un nuevo array con forma (5, 4, 3)."
   ]
  },
  {
   "cell_type": "code",
   "execution_count": 40,
   "metadata": {},
   "outputs": [
    {
     "data": {
      "text/plain": [
       "array([[[ 4,  7, 47,  9, 27],\n",
       "        [34, 46, 52, 48, 52],\n",
       "        [43, 22, 36, 30, 43],\n",
       "        [22, 24, 49, 51, 48]],\n",
       "\n",
       "       [[36, 45, 45, 23, 56],\n",
       "        [ 6, 17, 12, 32, 38],\n",
       "        [ 6, 53, 52, 49, 33],\n",
       "        [32, 37,  2, 23,  4]],\n",
       "\n",
       "       [[29, 26, 27, 19, 57],\n",
       "        [ 8, 50, 44, 16, 36],\n",
       "        [46, 27, 11, 38, 37],\n",
       "        [51, 55, 31, 40, 26]]])"
      ]
     },
     "execution_count": 40,
     "metadata": {},
     "output_type": "execute_result"
    }
   ],
   "source": [
    "array8"
   ]
  },
  {
   "cell_type": "code",
   "execution_count": 42,
   "metadata": {},
   "outputs": [
    {
     "data": {
      "text/plain": [
       "array([[[ 4, 36, 29],\n",
       "        [34,  6,  8],\n",
       "        [43,  6, 46],\n",
       "        [22, 32, 51]],\n",
       "\n",
       "       [[ 7, 45, 26],\n",
       "        [46, 17, 50],\n",
       "        [22, 53, 27],\n",
       "        [24, 37, 55]],\n",
       "\n",
       "       [[47, 45, 27],\n",
       "        [52, 12, 44],\n",
       "        [36, 52, 11],\n",
       "        [49,  2, 31]],\n",
       "\n",
       "       [[ 9, 23, 19],\n",
       "        [48, 32, 16],\n",
       "        [30, 49, 38],\n",
       "        [51, 23, 40]],\n",
       "\n",
       "       [[27, 56, 57],\n",
       "        [52, 38, 36],\n",
       "        [43, 33, 37],\n",
       "        [48,  4, 26]]])"
      ]
     },
     "execution_count": 42,
     "metadata": {},
     "output_type": "execute_result"
    }
   ],
   "source": [
    "array8_nuevo= np.transpose(array8)\n",
    "array8_nuevo"
   ]
  },
  {
   "cell_type": "markdown",
   "metadata": {},
   "source": [
    "5. Utiliza el array 3D del ejercicio 3 de reshape. Utiliza transpose para cambiar el orden de los ejes y obtener un nuevo array con forma (3, 2, 4)."
   ]
  },
  {
   "cell_type": "code",
   "execution_count": 43,
   "metadata": {},
   "outputs": [
    {
     "data": {
      "text/plain": [
       "array([[[0.4172722 , 0.52410796, 0.74275629, 0.30547426],\n",
       "        [0.03951582, 0.63104471, 0.5913752 , 0.4935739 ]],\n",
       "\n",
       "       [[0.15623245, 0.73445472, 0.12893475, 0.45826277],\n",
       "        [0.1638901 , 0.30362681, 0.76602946, 0.62501702]],\n",
       "\n",
       "       [[0.94939288, 0.29584608, 0.65437785, 0.53550188],\n",
       "        [0.47203401, 0.22406058, 0.79421562, 0.49859871]]])"
      ]
     },
     "execution_count": 43,
     "metadata": {},
     "output_type": "execute_result"
    }
   ],
   "source": [
    "array9_transpose= np.transpose(array9, (1,2,0))\n",
    "array9_transpose"
   ]
  },
  {
   "cell_type": "markdown",
   "metadata": {},
   "source": [
    "Funciones Aritméticas y Estadísticas:\n",
    "\n",
    "1. Crea un array de tres 3D con elementos entre el 0 y 1 de forma (2, 3, 5) cuyos valores solo tengan 1 decimal."
   ]
  },
  {
   "cell_type": "code",
   "execution_count": 44,
   "metadata": {},
   "outputs": [
    {
     "data": {
      "text/plain": [
       "array([[[0.8, 0.4, 0. , 0.3, 0. ],\n",
       "        [0. , 1. , 0. , 0.8, 0.1],\n",
       "        [0.3, 0.1, 0.1, 0.4, 1. ]],\n",
       "\n",
       "       [[0.6, 0.3, 0.8, 0.9, 0.6],\n",
       "        [0.6, 0.2, 0.6, 0.4, 0.1],\n",
       "        [0.9, 0. , 0.5, 0.8, 0.1]]])"
      ]
     },
     "execution_count": 44,
     "metadata": {},
     "output_type": "execute_result"
    }
   ],
   "source": [
    "array10= np.random.rand(2,3,5).round(1)\n",
    "array10"
   ]
  },
  {
   "cell_type": "markdown",
   "metadata": {},
   "source": [
    "2. Crea un array vacío con la misma forma y dimensiones que el array creado anteriormente. Vamos a reemplazar los valores de la matriz vacía que nos acabamos de crear pero basándonos en los valores del primer array bajo las siguientes condiciones:"
   ]
  },
  {
   "cell_type": "markdown",
   "metadata": {},
   "source": [
    "Si el valor del array es igual que la media, se reemplaza por \"A\"."
   ]
  },
  {
   "cell_type": "code",
   "execution_count": 46,
   "metadata": {},
   "outputs": [
    {
     "data": {
      "text/plain": [
       "array([[[0.8, 0.4, 0. , 0.3, 0. ],\n",
       "        [0. , 1. , 0. , 0.8, 0.1],\n",
       "        [0.3, 0.1, 0.1, 0.4, 1. ]],\n",
       "\n",
       "       [[0.6, 0.3, 0.8, 0.9, 0.6],\n",
       "        [0.6, 0.2, 0.6, 0.4, 0.1],\n",
       "        [0.9, 0. , 0.5, 0.8, 0.1]]])"
      ]
     },
     "execution_count": 46,
     "metadata": {},
     "output_type": "execute_result"
    }
   ],
   "source": [
    "array11= np.empty((2,3,5))\n",
    "array11"
   ]
  },
  {
   "cell_type": "code",
   "execution_count": 51,
   "metadata": {},
   "outputs": [
    {
     "data": {
      "text/plain": [
       "0.4"
      ]
     },
     "execution_count": 51,
     "metadata": {},
     "output_type": "execute_result"
    }
   ],
   "source": [
    "media = np.mean(array11).round(1)\n",
    "media"
   ]
  },
  {
   "cell_type": "code",
   "execution_count": 55,
   "metadata": {},
   "outputs": [
    {
     "data": {
      "text/plain": [
       "array([[['0.8', 'A', '0.0', '0.3', '0.0'],\n",
       "        ['0.0', '1.0', '0.0', '0.8', '0.1'],\n",
       "        ['0.3', '0.1', '0.1', 'A', '1.0']],\n",
       "\n",
       "       [['0.6', '0.3', '0.8', '0.9', '0.6'],\n",
       "        ['0.6', '0.2', '0.6', 'A', '0.1'],\n",
       "        ['0.9', '0.0', '0.5', '0.8', '0.1']]], dtype='<U32')"
      ]
     },
     "execution_count": 55,
     "metadata": {},
     "output_type": "execute_result"
    }
   ],
   "source": [
    "array11_A=np.where(array11 == media, \"A\", array11)\n",
    "array11_A"
   ]
  },
  {
   "cell_type": "markdown",
   "metadata": {},
   "source": [
    "Si el valor del array es mayor que la media, se reemplaza por \"B\"."
   ]
  },
  {
   "cell_type": "code",
   "execution_count": 47,
   "metadata": {},
   "outputs": [
    {
     "data": {
      "text/plain": [
       "0.4233333333333334"
      ]
     },
     "execution_count": 47,
     "metadata": {},
     "output_type": "execute_result"
    }
   ],
   "source": [
    "media = np.mean(array11)\n",
    "media"
   ]
  },
  {
   "cell_type": "code",
   "execution_count": 57,
   "metadata": {},
   "outputs": [
    {
     "data": {
      "text/plain": [
       "array([[['B', '0.4', '0.0', '0.3', '0.0'],\n",
       "        ['0.0', 'B', '0.0', 'B', '0.1'],\n",
       "        ['0.3', '0.1', '0.1', '0.4', 'B']],\n",
       "\n",
       "       [['B', '0.3', 'B', 'B', 'B'],\n",
       "        ['B', '0.2', 'B', '0.4', '0.1'],\n",
       "        ['B', '0.0', 'B', 'B', '0.1']]], dtype='<U32')"
      ]
     },
     "execution_count": 57,
     "metadata": {},
     "output_type": "execute_result"
    }
   ],
   "source": [
    "array11_B=np.where(array11 > media, \"B\", array11)\n",
    "array11_B"
   ]
  },
  {
   "cell_type": "markdown",
   "metadata": {},
   "source": [
    "Si el valor del array es menor que la media, se reemplaza por \"c\"."
   ]
  },
  {
   "cell_type": "code",
   "execution_count": null,
   "metadata": {},
   "outputs": [],
   "source": [
    "array11_C=np.where(array11 < media, \"C\", array11)\n",
    "array11_C"
   ]
  }
 ],
 "metadata": {
  "kernelspec": {
   "display_name": "base",
   "language": "python",
   "name": "python3"
  },
  "language_info": {
   "codemirror_mode": {
    "name": "ipython",
    "version": 3
   },
   "file_extension": ".py",
   "mimetype": "text/x-python",
   "name": "python",
   "nbconvert_exporter": "python",
   "pygments_lexer": "ipython3",
   "version": "3.9.12"
  }
 },
 "nbformat": 4,
 "nbformat_minor": 2
}
